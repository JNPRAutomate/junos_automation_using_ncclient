{
 "cells": [
  {
   "cell_type": "markdown",
   "metadata": {},
   "source": [
    "### Print NETCONF capabilities"
   ]
  },
  {
   "cell_type": "markdown",
   "metadata": {},
   "source": [
    "Open a NETCONF session with a Junos device"
   ]
  },
  {
   "cell_type": "code",
   "execution_count": 2,
   "metadata": {},
   "outputs": [],
   "source": [
    "from ncclient import manager\n",
    "vmx1=manager.connect(host=\"100.123.1.0\", port=\"830\", timeout=30, username=\"jcluser\", password=\"Juniper!1\", hostkey_verify=False)"
   ]
  },
  {
   "cell_type": "code",
   "execution_count": 3,
   "metadata": {},
   "outputs": [
    {
     "data": {
      "text/plain": [
       "True"
      ]
     },
     "execution_count": 3,
     "metadata": {},
     "output_type": "execute_result"
    }
   ],
   "source": [
    "vmx1.connected"
   ]
  },
  {
   "cell_type": "markdown",
   "metadata": {},
   "source": [
    "Print the NETCONF server capabilities"
   ]
  },
  {
   "cell_type": "code",
   "execution_count": 4,
   "metadata": {},
   "outputs": [
    {
     "name": "stdout",
     "output_type": "stream",
     "text": [
      "urn:ietf:params:netconf:base:1.0\n",
      "urn:ietf:params:netconf:capability:candidate:1.0\n",
      "urn:ietf:params:netconf:capability:confirmed-commit:1.0\n",
      "urn:ietf:params:netconf:capability:validate:1.0\n",
      "urn:ietf:params:netconf:capability:url:1.0?scheme=http,ftp,file\n",
      "urn:ietf:params:xml:ns:netconf:base:1.0\n",
      "urn:ietf:params:xml:ns:netconf:capability:candidate:1.0\n",
      "urn:ietf:params:xml:ns:netconf:capability:confirmed-commit:1.0\n",
      "urn:ietf:params:xml:ns:netconf:capability:validate:1.0\n",
      "urn:ietf:params:xml:ns:netconf:capability:url:1.0?protocol=http,ftp,file\n",
      "urn:ietf:params:xml:ns:yang:ietf-netconf-monitoring\n",
      "http://xml.juniper.net/netconf/junos/1.0\n",
      "http://xml.juniper.net/dmi/system/1.0\n"
     ]
    }
   ],
   "source": [
    "for item in vmx1.server_capabilities:\n",
    "  print (item)"
   ]
  },
  {
   "cell_type": "markdown",
   "metadata": {},
   "source": []
  },
  {
   "cell_type": "markdown",
   "metadata": {},
   "source": [
    "Check if the server advertised some NetConf capabilities"
   ]
  },
  {
   "cell_type": "code",
   "execution_count": 5,
   "metadata": {},
   "outputs": [],
   "source": [
    "assert(\":validate\" in vmx1.server_capabilities), \"NetConf server did not advertise the capability :validate\"\n",
    "assert(\":candidate\" in vmx1.server_capabilities), \"NetConf server did not advertise the capability :candidate\"\n",
    "assert(\":confirmed-commit\" in vmx1.server_capabilities), \"NetConf server did not advertise the capability :confirmed-commit\"\n",
    "assert(\":writable-running\" not in vmx1.server_capabilities), \"NetConf server advertised the capability :writable-running\""
   ]
  },
  {
   "cell_type": "markdown",
   "metadata": {},
   "source": [
    "Print the NETCONF client capabilities"
   ]
  },
  {
   "cell_type": "code",
   "execution_count": 6,
   "metadata": {},
   "outputs": [
    {
     "name": "stdout",
     "output_type": "stream",
     "text": [
      "urn:ietf:params:netconf:base:1.0\n",
      "urn:ietf:params:netconf:base:1.1\n",
      "urn:ietf:params:netconf:capability:writable-running:1.0\n",
      "urn:ietf:params:netconf:capability:candidate:1.0\n",
      "urn:ietf:params:netconf:capability:confirmed-commit:1.0\n",
      "urn:ietf:params:netconf:capability:rollback-on-error:1.0\n",
      "urn:ietf:params:netconf:capability:startup:1.0\n",
      "urn:ietf:params:netconf:capability:url:1.0?scheme=http,ftp,file,https,sftp\n",
      "urn:ietf:params:netconf:capability:validate:1.0\n",
      "urn:ietf:params:netconf:capability:xpath:1.0\n",
      "urn:ietf:params:netconf:capability:notification:1.0\n",
      "urn:liberouter:params:netconf:capability:power-control:1.0\n",
      "urn:ietf:params:netconf:capability:interleave:1.0\n",
      "urn:ietf:params:netconf:capability:with-defaults:1.0\n"
     ]
    }
   ],
   "source": [
    "for item in vmx1.client_capabilities:\n",
    "  print (item)  "
   ]
  },
  {
   "cell_type": "markdown",
   "metadata": {},
   "source": [
    "Use the `close_session` NETCONF operation to close the NETCONF session"
   ]
  },
  {
   "cell_type": "code",
   "execution_count": 7,
   "metadata": {},
   "outputs": [
    {
     "data": {
      "text/plain": [
       "<rpc-reply xmlns=\"urn:ietf:params:xml:ns:netconf:base:1.0\" xmlns:junos=\"http://xml.juniper.net/junos/18.2R1/junos\" xmlns:nc=\"urn:ietf:params:xml:ns:netconf:base:1.0\" message-id=\"urn:uuid:81e81b2c-bdf7-49ac-a1ab-368d305a9af5\">\n",
       "<ok/>\n",
       "</rpc-reply>"
      ]
     },
     "execution_count": 7,
     "metadata": {},
     "output_type": "execute_result"
    }
   ],
   "source": [
    "vmx1.close_session()"
   ]
  },
  {
   "cell_type": "code",
   "execution_count": 7,
   "metadata": {},
   "outputs": [
    {
     "data": {
      "text/plain": [
       "False"
      ]
     },
     "execution_count": 7,
     "metadata": {},
     "output_type": "execute_result"
    }
   ],
   "source": [
    "vmx1.connected"
   ]
  }
 ],
 "metadata": {
  "kernelspec": {
   "display_name": "Python 3",
   "language": "python",
   "name": "python3"
  },
  "language_info": {
   "codemirror_mode": {
    "name": "ipython",
    "version": 3
   },
   "file_extension": ".py",
   "mimetype": "text/x-python",
   "name": "python",
   "nbconvert_exporter": "python",
   "pygments_lexer": "ipython3",
   "version": "3.7.3"
  }
 },
 "nbformat": 4,
 "nbformat_minor": 2
}
