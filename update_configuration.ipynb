{
 "cells": [
  {
   "cell_type": "markdown",
   "metadata": {},
   "source": [
    "### Update configuration"
   ]
  },
  {
   "cell_type": "markdown",
   "metadata": {},
   "source": [
    "Open a NETCONF session with a Junos device"
   ]
  },
  {
   "cell_type": "code",
   "execution_count": 1,
   "metadata": {},
   "outputs": [],
   "source": [
    "from ncclient import manager\n",
    "vmx1=manager.connect(host=\"100.123.1.0\", port=\"830\", timeout=30, username=\"jcluser\", password=\"Juniper!1\", hostkey_verify=False)"
   ]
  },
  {
   "cell_type": "code",
   "execution_count": 2,
   "metadata": {},
   "outputs": [
    {
     "data": {
      "text/plain": [
       "True"
      ]
     },
     "execution_count": 2,
     "metadata": {},
     "output_type": "execute_result"
    }
   ],
   "source": [
    "vmx1.connected"
   ]
  },
  {
   "cell_type": "markdown",
   "metadata": {},
   "source": [
    "Retrieve a subset of the running configuration (device hostname) "
   ]
  },
  {
   "cell_type": "code",
   "execution_count": 3,
   "metadata": {},
   "outputs": [
    {
     "data": {
      "text/plain": [
       "<rpc-reply xmlns=\"urn:ietf:params:xml:ns:netconf:base:1.0\" xmlns:junos=\"http://xml.juniper.net/junos/18.2R1/junos\" xmlns:nc=\"urn:ietf:params:xml:ns:netconf:base:1.0\" message-id=\"urn:uuid:3f4a0cd2-baa3-4334-ac92-bbca9f3413b7\">\n",
       "<data>\n",
       "<configuration xmlns=\"http://xml.juniper.net/xnm/1.1/xnm\" junos:commit-seconds=\"1574878095\" junos:commit-localtime=\"2019-11-27 18:08:15 UTC\" junos:commit-user=\"jcluser\">\n",
       "    <system>\n",
       "        <host-name>vmx1</host-name>\n",
       "    </system>\n",
       "</configuration>\n",
       "</data>\n",
       "</rpc-reply>"
      ]
     },
     "execution_count": 3,
     "metadata": {},
     "output_type": "execute_result"
    }
   ],
   "source": [
    "criteria='''\n",
    "<configuration>\n",
    "   <system>\n",
    "     <host-name/>\n",
    "   </system>\n",
    "</configuration>\n",
    "'''\n",
    "vmx1.get_config(source=\"running\", filter=(\"subtree\", criteria))"
   ]
  },
  {
   "cell_type": "markdown",
   "metadata": {},
   "source": [
    "Use the NETCONF operations lock, edit_config and unlock to update the configuration (device hostname)"
   ]
  },
  {
   "cell_type": "code",
   "execution_count": 4,
   "metadata": {},
   "outputs": [
    {
     "data": {
      "text/plain": [
       "<rpc-reply xmlns=\"urn:ietf:params:xml:ns:netconf:base:1.0\" xmlns:junos=\"http://xml.juniper.net/junos/18.2R1/junos\" xmlns:nc=\"urn:ietf:params:xml:ns:netconf:base:1.0\" message-id=\"urn:uuid:b08068d0-09e1-4ae0-80ab-aad794346baf\">\n",
       "<ok/>\n",
       "</rpc-reply>"
      ]
     },
     "execution_count": 4,
     "metadata": {},
     "output_type": "execute_result"
    }
   ],
   "source": [
    "conf='''<config><configuration><system><host-name operation=\"replace\">vmx1</host-name></system></configuration></config>'''\n",
    "vmx1.lock('candidate')\n",
    "vmx1.edit_config(target='candidate', config=conf)\n",
    "vmx1.commit()\n",
    "vmx1.unlock('candidate')\n"
   ]
  },
  {
   "cell_type": "markdown",
   "metadata": {},
   "source": [
    "Retrieve a subset of the running configuration (device hostname) "
   ]
  },
  {
   "cell_type": "code",
   "execution_count": 5,
   "metadata": {},
   "outputs": [
    {
     "data": {
      "text/plain": [
       "<rpc-reply xmlns=\"urn:ietf:params:xml:ns:netconf:base:1.0\" xmlns:junos=\"http://xml.juniper.net/junos/18.2R1/junos\" xmlns:nc=\"urn:ietf:params:xml:ns:netconf:base:1.0\" message-id=\"urn:uuid:9ceff605-e468-4bb1-a771-b8e6ab1dbc11\">\n",
       "<data>\n",
       "<configuration xmlns=\"http://xml.juniper.net/xnm/1.1/xnm\" junos:commit-seconds=\"1574880623\" junos:commit-localtime=\"2019-11-27 18:50:23 UTC\" junos:commit-user=\"jcluser\">\n",
       "    <system>\n",
       "        <host-name>vmx1</host-name>\n",
       "    </system>\n",
       "</configuration>\n",
       "</data>\n",
       "</rpc-reply>"
      ]
     },
     "execution_count": 5,
     "metadata": {},
     "output_type": "execute_result"
    }
   ],
   "source": [
    "criteria='''\n",
    "<configuration>\n",
    "   <system>\n",
    "     <host-name/>\n",
    "   </system>\n",
    "</configuration>\n",
    "'''\n",
    "vmx1.get_config(source=\"running\", filter=(\"subtree\", criteria))"
   ]
  },
  {
   "cell_type": "markdown",
   "metadata": {},
   "source": [
    "Use the `close_session` NETCONF operation to close the NETCONF session"
   ]
  },
  {
   "cell_type": "code",
   "execution_count": 10,
   "metadata": {},
   "outputs": [
    {
     "data": {
      "text/plain": [
       "<rpc-reply xmlns=\"urn:ietf:params:xml:ns:netconf:base:1.0\" xmlns:junos=\"http://xml.juniper.net/junos/18.2R1/junos\" xmlns:nc=\"urn:ietf:params:xml:ns:netconf:base:1.0\" message-id=\"urn:uuid:8a6a93d1-241b-4ebc-8088-9de5c7e8ba62\">\n",
       "<ok/>\n",
       "</rpc-reply>"
      ]
     },
     "execution_count": 10,
     "metadata": {},
     "output_type": "execute_result"
    }
   ],
   "source": [
    "vmx1.close_session()"
   ]
  },
  {
   "cell_type": "code",
   "execution_count": 18,
   "metadata": {},
   "outputs": [
    {
     "data": {
      "text/plain": [
       "False"
      ]
     },
     "execution_count": 18,
     "metadata": {},
     "output_type": "execute_result"
    }
   ],
   "source": [
    "vmx1.connected"
   ]
  }
 ],
 "metadata": {
  "kernelspec": {
   "display_name": "Python 3",
   "language": "python",
   "name": "python3"
  },
  "language_info": {
   "codemirror_mode": {
    "name": "ipython",
    "version": 3
   },
   "file_extension": ".py",
   "mimetype": "text/x-python",
   "name": "python",
   "nbconvert_exporter": "python",
   "pygments_lexer": "ipython3",
   "version": "3.7.3"
  }
 },
 "nbformat": 4,
 "nbformat_minor": 2
}
