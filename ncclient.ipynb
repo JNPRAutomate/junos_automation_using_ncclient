{
 "cells": [
  {
   "cell_type": "markdown",
   "metadata": {},
   "source": [
    "### Open the NETCONF session"
   ]
  },
  {
   "cell_type": "code",
   "execution_count": 12,
   "metadata": {},
   "outputs": [],
   "source": [
    "from ncclient import manager\n",
    "vmx1=manager.connect(host=\"100.123.1.0\", port=\"830\", timeout=30, username=\"jcluser\", password=\"Juniper!1\", hostkey_verify=False)"
   ]
  },
  {
   "cell_type": "code",
   "execution_count": 14,
   "metadata": {},
   "outputs": [
    {
     "data": {
      "text/plain": [
       "True"
      ]
     },
     "execution_count": 14,
     "metadata": {},
     "output_type": "execute_result"
    }
   ],
   "source": [
    "vmx1.connected"
   ]
  },
  {
   "cell_type": "markdown",
   "metadata": {},
   "source": [
    "### NETCONF capabilities"
   ]
  },
  {
   "cell_type": "markdown",
   "metadata": {},
   "source": [
    "Print the NETCONF server capabilities"
   ]
  },
  {
   "cell_type": "code",
   "execution_count": 3,
   "metadata": {},
   "outputs": [
    {
     "name": "stdout",
     "output_type": "stream",
     "text": [
      "urn:ietf:params:netconf:base:1.0\n",
      "urn:ietf:params:netconf:capability:candidate:1.0\n",
      "urn:ietf:params:netconf:capability:confirmed-commit:1.0\n",
      "urn:ietf:params:netconf:capability:validate:1.0\n",
      "urn:ietf:params:netconf:capability:url:1.0?scheme=http,ftp,file\n",
      "urn:ietf:params:xml:ns:netconf:base:1.0\n",
      "urn:ietf:params:xml:ns:netconf:capability:candidate:1.0\n",
      "urn:ietf:params:xml:ns:netconf:capability:confirmed-commit:1.0\n",
      "urn:ietf:params:xml:ns:netconf:capability:validate:1.0\n",
      "urn:ietf:params:xml:ns:netconf:capability:url:1.0?protocol=http,ftp,file\n",
      "urn:ietf:params:xml:ns:yang:ietf-netconf-monitoring\n",
      "http://xml.juniper.net/netconf/junos/1.0\n",
      "http://xml.juniper.net/dmi/system/1.0\n"
     ]
    }
   ],
   "source": [
    "for item in vmx1.server_capabilities:\n",
    "  print (item)"
   ]
  },
  {
   "cell_type": "markdown",
   "metadata": {},
   "source": []
  },
  {
   "cell_type": "code",
   "execution_count": 4,
   "metadata": {},
   "outputs": [],
   "source": [
    "assert(\":validate\" in vmx1.server_capabilities), \"NetConf server did not advertise the capability :validate\"\n",
    "assert(\":candidate\" in vmx1.server_capabilities), \"NetConf server did not advertise the capability :candidate\"\n",
    "assert(\":confirmed-commit\" in vmx1.server_capabilities), \"NetConf server did not advertise the capability :confirmed-commit\"\n",
    "assert(\":writable-running\" not in vmx1.server_capabilities), \"NetConf server advertised the capability :writable-running\"\n"
   ]
  },
  {
   "cell_type": "markdown",
   "metadata": {},
   "source": [
    "Print the NETCONF client capabilities"
   ]
  },
  {
   "cell_type": "code",
   "execution_count": 5,
   "metadata": {},
   "outputs": [
    {
     "name": "stdout",
     "output_type": "stream",
     "text": [
      "urn:ietf:params:netconf:base:1.0\n",
      "urn:ietf:params:netconf:base:1.1\n",
      "urn:ietf:params:netconf:capability:writable-running:1.0\n",
      "urn:ietf:params:netconf:capability:candidate:1.0\n",
      "urn:ietf:params:netconf:capability:confirmed-commit:1.0\n",
      "urn:ietf:params:netconf:capability:rollback-on-error:1.0\n",
      "urn:ietf:params:netconf:capability:startup:1.0\n",
      "urn:ietf:params:netconf:capability:url:1.0?scheme=http,ftp,file,https,sftp\n",
      "urn:ietf:params:netconf:capability:validate:1.0\n",
      "urn:ietf:params:netconf:capability:xpath:1.0\n",
      "urn:ietf:params:netconf:capability:notification:1.0\n",
      "urn:liberouter:params:netconf:capability:power-control:1.0\n",
      "urn:ietf:params:netconf:capability:interleave:1.0\n",
      "urn:ietf:params:netconf:capability:with-defaults:1.0\n"
     ]
    }
   ],
   "source": [
    "for item in vmx1.client_capabilities:\n",
    "  print (item)  "
   ]
  },
  {
   "cell_type": "markdown",
   "metadata": {},
   "source": [
    "### Retrieve the configuration using the `get_config` NETCONF operation"
   ]
  },
  {
   "cell_type": "markdown",
   "metadata": {},
   "source": [
    "Backup the active configuration on the host running this script"
   ]
  },
  {
   "cell_type": "code",
   "execution_count": 6,
   "metadata": {},
   "outputs": [],
   "source": [
    "f=open (\"vmx1_config.xml\", 'w')\n",
    "f.write(str(vmx1.get_config(source='running')))\n",
    "f.close()"
   ]
  },
  {
   "cell_type": "markdown",
   "metadata": {},
   "source": [
    "Print the candidate configuration"
   ]
  },
  {
   "cell_type": "code",
   "execution_count": 7,
   "metadata": {},
   "outputs": [],
   "source": [
    "# print (vmx1.get_config(source=\"candidate\"))"
   ]
  },
  {
   "cell_type": "markdown",
   "metadata": {},
   "source": [
    "Use a subtree filter to get only interfaces configuration from the active configuration. These 2 examples provide the same output"
   ]
  },
  {
   "cell_type": "code",
   "execution_count": 8,
   "metadata": {},
   "outputs": [],
   "source": [
    "criteria1='''\n",
    "<configuration>\n",
    "     <interfaces>\n",
    "     </interfaces>\n",
    "</configuration>\n",
    "'''\n",
    "interfaces_config_1 = vmx1.get_config(source=\"running\", filter=(\"subtree\", criteria1))\n",
    "# print (interfaces_config_1)\n",
    "\n",
    "\n",
    "criteria2='''\n",
    "<configuration>\n",
    "     <interfaces/>\n",
    "</configuration>\n",
    "'''\n",
    "interfaces_config_2 = vmx1.get_config(source=\"running\", filter=(\"subtree\", criteria2))\n",
    "# print (interfaces_config_2)\n"
   ]
  },
  {
   "cell_type": "markdown",
   "metadata": {},
   "source": [
    "### Update the candidate configuration and commit"
   ]
  },
  {
   "cell_type": "markdown",
   "metadata": {},
   "source": [
    "Use the NETCONF operations `lock`, `edit_config` and `unlock` to update the configuration"
   ]
  },
  {
   "cell_type": "code",
   "execution_count": 33,
   "metadata": {},
   "outputs": [
    {
     "data": {
      "text/plain": [
       "<rpc-reply xmlns=\"urn:ietf:params:xml:ns:netconf:base:1.0\" xmlns:junos=\"http://xml.juniper.net/junos/18.2R1/junos\" xmlns:nc=\"urn:ietf:params:xml:ns:netconf:base:1.0\" message-id=\"urn:uuid:7bb93654-cdd3-4d35-9509-2608bba2288c\">\n",
       "<data>\n",
       "<configuration xmlns=\"http://xml.juniper.net/xnm/1.1/xnm\" junos:commit-seconds=\"1574863805\" junos:commit-localtime=\"2019-11-27 14:10:05 UTC\" junos:commit-user=\"jcluser\">\n",
       "    <system>\n",
       "        <host-name>spine1</host-name>\n",
       "    </system>\n",
       "</configuration>\n",
       "</data>\n",
       "</rpc-reply>"
      ]
     },
     "execution_count": 33,
     "metadata": {},
     "output_type": "execute_result"
    }
   ],
   "source": [
    "criteria='''\n",
    "<configuration>\n",
    "   <system>\n",
    "     <host-name/>\n",
    "   </system>\n",
    "</configuration>\n",
    "'''\n",
    "vmx1.get_config(source=\"running\", filter=(\"subtree\", criteria))"
   ]
  },
  {
   "cell_type": "code",
   "execution_count": 34,
   "metadata": {},
   "outputs": [
    {
     "data": {
      "text/plain": [
       "<rpc-reply xmlns=\"urn:ietf:params:xml:ns:netconf:base:1.0\" xmlns:junos=\"http://xml.juniper.net/junos/18.2R1/junos\" xmlns:nc=\"urn:ietf:params:xml:ns:netconf:base:1.0\" message-id=\"urn:uuid:9e8ed585-3fb3-4d01-9ba6-e03100f2d541\">\n",
       "<ok/>\n",
       "</rpc-reply>"
      ]
     },
     "execution_count": 34,
     "metadata": {},
     "output_type": "execute_result"
    }
   ],
   "source": [
    "conf='''<config><configuration><system><host-name operation=\"replace\">vmx1</host-name></system></configuration></config>'''\n",
    "vmx1.lock('candidate')\n",
    "vmx1.edit_config(target='candidate', config=conf)\n",
    "vmx1.commit()\n",
    "vmx1.unlock('candidate')\n"
   ]
  },
  {
   "cell_type": "code",
   "execution_count": 35,
   "metadata": {},
   "outputs": [
    {
     "data": {
      "text/plain": [
       "<rpc-reply xmlns=\"urn:ietf:params:xml:ns:netconf:base:1.0\" xmlns:junos=\"http://xml.juniper.net/junos/18.2R1/junos\" xmlns:nc=\"urn:ietf:params:xml:ns:netconf:base:1.0\" message-id=\"urn:uuid:61984423-5fe5-4093-a15c-a649e5aa1179\">\n",
       "<data>\n",
       "<configuration xmlns=\"http://xml.juniper.net/xnm/1.1/xnm\" junos:commit-seconds=\"1574863822\" junos:commit-localtime=\"2019-11-27 14:10:22 UTC\" junos:commit-user=\"jcluser\">\n",
       "    <system>\n",
       "        <host-name>vmx1</host-name>\n",
       "    </system>\n",
       "</configuration>\n",
       "</data>\n",
       "</rpc-reply>"
      ]
     },
     "execution_count": 35,
     "metadata": {},
     "output_type": "execute_result"
    }
   ],
   "source": [
    "criteria='''\n",
    "<configuration>\n",
    "   <system>\n",
    "     <host-name/>\n",
    "   </system>\n",
    "</configuration>\n",
    "'''\n",
    "vmx1.get_config(source=\"running\", filter=(\"subtree\", criteria))"
   ]
  },
  {
   "cell_type": "markdown",
   "metadata": {},
   "source": [
    "### Revert a candidate configuration to the currently running configuration"
   ]
  },
  {
   "cell_type": "markdown",
   "metadata": {},
   "source": [
    "Update the candidate configuration"
   ]
  },
  {
   "cell_type": "code",
   "execution_count": 37,
   "metadata": {},
   "outputs": [
    {
     "data": {
      "text/plain": [
       "<rpc-reply xmlns=\"urn:ietf:params:xml:ns:netconf:base:1.0\" xmlns:junos=\"http://xml.juniper.net/junos/18.2R1/junos\" xmlns:nc=\"urn:ietf:params:xml:ns:netconf:base:1.0\" message-id=\"urn:uuid:2177586f-9dd6-42ca-92a0-2533ecac1d7a\">\n",
       "<ok/>\n",
       "</rpc-reply>"
      ]
     },
     "execution_count": 37,
     "metadata": {},
     "output_type": "execute_result"
    }
   ],
   "source": [
    "conf = '''<config><configuration><system><host-name operation=\"replace\">anothername</host-name></system></configuration></config>'''\n",
    "vmx1.edit_config(target='candidate', config=conf)"
   ]
  },
  {
   "cell_type": "markdown",
   "metadata": {},
   "source": [
    "Get the candidate configuration"
   ]
  },
  {
   "cell_type": "code",
   "execution_count": 40,
   "metadata": {},
   "outputs": [
    {
     "data": {
      "text/plain": [
       "<rpc-reply xmlns=\"urn:ietf:params:xml:ns:netconf:base:1.0\" xmlns:junos=\"http://xml.juniper.net/junos/18.2R1/junos\" xmlns:nc=\"urn:ietf:params:xml:ns:netconf:base:1.0\" message-id=\"urn:uuid:91932dcf-c696-4a46-ba75-33c3ad049b2a\">\n",
       "<data>\n",
       "<configuration xmlns=\"http://xml.juniper.net/xnm/1.1/xnm\" junos:changed-seconds=\"1574864008\" junos:changed-localtime=\"2019-11-27 14:13:28 UTC\">\n",
       "    <system>\n",
       "        <host-name>anothername</host-name>\n",
       "    </system>\n",
       "</configuration>\n",
       "</data>\n",
       "</rpc-reply>"
      ]
     },
     "execution_count": 40,
     "metadata": {},
     "output_type": "execute_result"
    }
   ],
   "source": [
    "criteria='''\n",
    "<configuration>\n",
    "   <system>\n",
    "     <host-name/>\n",
    "   </system>\n",
    "</configuration>\n",
    "'''\n",
    "vmx1.get_config(source=\"candidate\", filter=(\"subtree\", criteria))"
   ]
  },
  {
   "cell_type": "markdown",
   "metadata": {},
   "source": [
    "Revert the candidate configuration to the currently running configuration. Any uncommitted changes are discarded."
   ]
  },
  {
   "cell_type": "code",
   "execution_count": 41,
   "metadata": {},
   "outputs": [
    {
     "data": {
      "text/plain": [
       "<rpc-reply xmlns=\"urn:ietf:params:xml:ns:netconf:base:1.0\" xmlns:junos=\"http://xml.juniper.net/junos/18.2R1/junos\" xmlns:nc=\"urn:ietf:params:xml:ns:netconf:base:1.0\" message-id=\"urn:uuid:3d5c5b88-da65-4876-8a1c-f6a5015cf550\">\n",
       "<ok/>\n",
       "</rpc-reply>"
      ]
     },
     "execution_count": 41,
     "metadata": {},
     "output_type": "execute_result"
    }
   ],
   "source": [
    "vmx1.discard_changes()"
   ]
  },
  {
   "cell_type": "markdown",
   "metadata": {},
   "source": [
    "Check the candidate configuration"
   ]
  },
  {
   "cell_type": "code",
   "execution_count": 42,
   "metadata": {},
   "outputs": [
    {
     "data": {
      "text/plain": [
       "<rpc-reply xmlns=\"urn:ietf:params:xml:ns:netconf:base:1.0\" xmlns:junos=\"http://xml.juniper.net/junos/18.2R1/junos\" xmlns:nc=\"urn:ietf:params:xml:ns:netconf:base:1.0\" message-id=\"urn:uuid:dcaeabb8-5659-4d7c-b713-965a1d287379\">\n",
       "<data>\n",
       "<configuration xmlns=\"http://xml.juniper.net/xnm/1.1/xnm\" junos:changed-seconds=\"1574864215\" junos:changed-localtime=\"2019-11-27 14:16:55 UTC\">\n",
       "    <system>\n",
       "        <host-name>vmx1</host-name>\n",
       "    </system>\n",
       "</configuration>\n",
       "</data>\n",
       "</rpc-reply>"
      ]
     },
     "execution_count": 42,
     "metadata": {},
     "output_type": "execute_result"
    }
   ],
   "source": [
    "vmx1.get_config(source=\"candidate\", filter=(\"subtree\", criteria))"
   ]
  },
  {
   "cell_type": "markdown",
   "metadata": {},
   "source": [
    "### Close the NETCONF session"
   ]
  },
  {
   "cell_type": "markdown",
   "metadata": {},
   "source": [
    "Use the `close_session` NETCONF operation"
   ]
  },
  {
   "cell_type": "code",
   "execution_count": 10,
   "metadata": {},
   "outputs": [
    {
     "data": {
      "text/plain": [
       "<rpc-reply xmlns=\"urn:ietf:params:xml:ns:netconf:base:1.0\" xmlns:junos=\"http://xml.juniper.net/junos/18.2R1/junos\" xmlns:nc=\"urn:ietf:params:xml:ns:netconf:base:1.0\" message-id=\"urn:uuid:1b3744d1-f6ac-4045-9a1a-4a4e2386265b\">\n",
       "<ok/>\n",
       "</rpc-reply>"
      ]
     },
     "execution_count": 10,
     "metadata": {},
     "output_type": "execute_result"
    }
   ],
   "source": [
    "vmx1.close_session()"
   ]
  },
  {
   "cell_type": "code",
   "execution_count": 11,
   "metadata": {},
   "outputs": [
    {
     "data": {
      "text/plain": [
       "False"
      ]
     },
     "execution_count": 11,
     "metadata": {},
     "output_type": "execute_result"
    }
   ],
   "source": [
    "vmx1.connected"
   ]
  },
  {
   "cell_type": "code",
   "execution_count": null,
   "metadata": {},
   "outputs": [],
   "source": []
  }
 ],
 "metadata": {
  "kernelspec": {
   "display_name": "Python 3",
   "language": "python",
   "name": "python3"
  },
  "language_info": {
   "codemirror_mode": {
    "name": "ipython",
    "version": 3
   },
   "file_extension": ".py",
   "mimetype": "text/x-python",
   "name": "python",
   "nbconvert_exporter": "python",
   "pygments_lexer": "ipython3",
   "version": "3.7.3"
  }
 },
 "nbformat": 4,
 "nbformat_minor": 2
}
