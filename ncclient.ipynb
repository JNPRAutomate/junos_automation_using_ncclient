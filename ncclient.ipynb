{
 "cells": [
  {
   "cell_type": "markdown",
   "metadata": {},
   "source": [
    "connect to a device "
   ]
  },
  {
   "cell_type": "code",
   "execution_count": 1,
   "metadata": {},
   "outputs": [
    {
     "data": {
      "text/plain": [
       "True"
      ]
     },
     "execution_count": 1,
     "metadata": {},
     "output_type": "execute_result"
    }
   ],
   "source": [
    "from ncclient import manager\n",
    "vmx1=manager.connect(host=\"100.123.1.0\", port=\"830\", timeout=60, username=\"jcluser\", password=\"Juniper!1\", hostkey_verify=False)\n",
    "vmx1.connected"
   ]
  },
  {
   "cell_type": "code",
   "execution_count": 2,
   "metadata": {},
   "outputs": [
    {
     "data": {
      "text/plain": [
       "30"
      ]
     },
     "execution_count": 2,
     "metadata": {},
     "output_type": "execute_result"
    }
   ],
   "source": [
    "vmx1.timeout"
   ]
  },
  {
   "cell_type": "markdown",
   "metadata": {},
   "source": [
    "Print NetConf server capabilities"
   ]
  },
  {
   "cell_type": "code",
   "execution_count": 3,
   "metadata": {},
   "outputs": [
    {
     "name": "stdout",
     "output_type": "stream",
     "text": [
      "urn:ietf:params:netconf:base:1.0\n",
      "urn:ietf:params:netconf:capability:candidate:1.0\n",
      "urn:ietf:params:netconf:capability:confirmed-commit:1.0\n",
      "urn:ietf:params:netconf:capability:validate:1.0\n",
      "urn:ietf:params:netconf:capability:url:1.0?scheme=http,ftp,file\n",
      "urn:ietf:params:xml:ns:netconf:base:1.0\n",
      "urn:ietf:params:xml:ns:netconf:capability:candidate:1.0\n",
      "urn:ietf:params:xml:ns:netconf:capability:confirmed-commit:1.0\n",
      "urn:ietf:params:xml:ns:netconf:capability:validate:1.0\n",
      "urn:ietf:params:xml:ns:netconf:capability:url:1.0?protocol=http,ftp,file\n",
      "urn:ietf:params:xml:ns:yang:ietf-netconf-monitoring\n",
      "http://xml.juniper.net/netconf/junos/1.0\n",
      "http://xml.juniper.net/dmi/system/1.0\n"
     ]
    }
   ],
   "source": [
    "for item in vmx1.server_capabilities:\n",
    "  print (item)"
   ]
  },
  {
   "cell_type": "markdown",
   "metadata": {},
   "source": []
  },
  {
   "cell_type": "code",
   "execution_count": 4,
   "metadata": {},
   "outputs": [],
   "source": [
    "assert(\":validate\" in vmx1.server_capabilities), \"NetConf server did not advertise the capability :validate\"\n",
    "assert(\":candidate\" in vmx1.server_capabilities), \"NetConf server did not advertise the capability :candidate\"\n",
    "assert(\":confirmed-commit\" in vmx1.server_capabilities), \"NetConf server did not advertise the capability :confirmed-commit\"\n",
    "assert(\":writable-running\" not in vmx1.server_capabilities), \"NetConf server advertised the capability :writable-running\"\n"
   ]
  },
  {
   "cell_type": "markdown",
   "metadata": {},
   "source": [
    "Print NetConf client capabilities"
   ]
  },
  {
   "cell_type": "code",
   "execution_count": 5,
   "metadata": {},
   "outputs": [
    {
     "name": "stdout",
     "output_type": "stream",
     "text": [
      "urn:ietf:params:netconf:base:1.0\n",
      "urn:ietf:params:netconf:base:1.1\n",
      "urn:ietf:params:netconf:capability:writable-running:1.0\n",
      "urn:ietf:params:netconf:capability:candidate:1.0\n",
      "urn:ietf:params:netconf:capability:confirmed-commit:1.0\n",
      "urn:ietf:params:netconf:capability:rollback-on-error:1.0\n",
      "urn:ietf:params:netconf:capability:startup:1.0\n",
      "urn:ietf:params:netconf:capability:url:1.0?scheme=http,ftp,file,https,sftp\n",
      "urn:ietf:params:netconf:capability:validate:1.0\n",
      "urn:ietf:params:netconf:capability:xpath:1.0\n",
      "urn:ietf:params:netconf:capability:notification:1.0\n",
      "urn:liberouter:params:netconf:capability:power-control:1.0\n",
      "urn:ietf:params:netconf:capability:interleave:1.0\n",
      "urn:ietf:params:netconf:capability:with-defaults:1.0\n"
     ]
    }
   ],
   "source": [
    "for item in vmx1.client_capabilities:\n",
    "  print (item)  "
   ]
  },
  {
   "cell_type": "markdown",
   "metadata": {},
   "source": [
    "backup the active configuration on the host running this script"
   ]
  },
  {
   "cell_type": "code",
   "execution_count": 6,
   "metadata": {},
   "outputs": [],
   "source": [
    "f=open (\"vmx1_config.xml\", 'w')\n",
    "f.write(str(vmx1.get_config(source='running')))\n",
    "f.close()"
   ]
  },
  {
   "cell_type": "markdown",
   "metadata": {},
   "source": [
    "print the candidate configuration"
   ]
  },
  {
   "cell_type": "code",
   "execution_count": 7,
   "metadata": {},
   "outputs": [],
   "source": [
    "# print (vmx1.get_config(source=\"candidate\"))"
   ]
  },
  {
   "cell_type": "markdown",
   "metadata": {},
   "source": [
    "Use a subtree filter to get only interfaces configuration from the active configuration"
   ]
  },
  {
   "cell_type": "markdown",
   "metadata": {},
   "source": [
    "These 2 examples provide the same output"
   ]
  },
  {
   "cell_type": "code",
   "execution_count": 8,
   "metadata": {},
   "outputs": [],
   "source": [
    "criteria1='''\n",
    "<configuration>\n",
    "     <interfaces>\n",
    "     </interfaces>\n",
    "</configuration>\n",
    "'''\n",
    "interfaces_config_1 = vmx1.get_config(source=\"running\", filter=(\"subtree\", criteria1))\n",
    "# print (interfaces_config_1)\n",
    "\n",
    "\n",
    "criteria2='''\n",
    "<configuration>\n",
    "     <interfaces/>\n",
    "</configuration>\n",
    "'''\n",
    "interfaces_config_2 = vmx1.get_config(source=\"running\", filter=(\"subtree\", criteria2))\n",
    "# print (interfaces_config_2)\n"
   ]
  },
  {
   "cell_type": "markdown",
   "metadata": {},
   "source": [
    "Close the NETCONF session"
   ]
  },
  {
   "cell_type": "code",
   "execution_count": 9,
   "metadata": {},
   "outputs": [
    {
     "data": {
      "text/plain": [
       "False"
      ]
     },
     "execution_count": 9,
     "metadata": {},
     "output_type": "execute_result"
    }
   ],
   "source": [
    "vmx1.close_session()\n",
    "vmx1.connected\n"
   ]
  },
  {
   "cell_type": "code",
   "execution_count": null,
   "metadata": {},
   "outputs": [],
   "source": []
  }
 ],
 "metadata": {
  "kernelspec": {
   "display_name": "Python 3",
   "language": "python",
   "name": "python3"
  },
  "language_info": {
   "codemirror_mode": {
    "name": "ipython",
    "version": 3
   },
   "file_extension": ".py",
   "mimetype": "text/x-python",
   "name": "python",
   "nbconvert_exporter": "python",
   "pygments_lexer": "ipython3",
   "version": "3.7.3"
  }
 },
 "nbformat": 4,
 "nbformat_minor": 2
}
